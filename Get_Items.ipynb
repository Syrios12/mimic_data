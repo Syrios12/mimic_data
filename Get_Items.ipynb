{
 "metadata": {
  "name": "",
  "signature": "sha256:d4c402f3fd2259bd93dd3b7ffb58b60f3abe2f79adc556e0e5a3ad51fca64777"
 },
 "nbformat": 3,
 "nbformat_minor": 0,
 "worksheets": [
  {
   "cells": [
    {
     "cell_type": "markdown",
     "metadata": {},
     "source": [
      "#Where to Start\n",
      "\n",
      "After reading my [Guide to Getting Started with the MIMIC Data](http://nbviewer.ipython.org/github/tfolkman/mimic_data/blob/master/Getting_Started_with_MIMIC_Demo.ipynb) you might be wondering where to start to use the MIMIC data to do your own research. In this notebook I will try and provide some guidance as to how navigate the MIMIC data. I will discuss the \"most important tables\" and some SQL code to get item ids.\n",
      "\n",
      "Most of this is from the [MIMIC Primer 201](http://criticaldata.mit.edu/scope-of-mimic/) and the [MIMIC Primer 301](http://criticaldata.mit.edu/mimic-primer-201/). I am mostly just providing some code.\n",
      "\n",
      "#Most Important Tables\n",
      "\n",
      "* The **ICU Stay Detail table** has data pertaining to a unique admission to the ICU. This includes things like a patient\u2019s gender, date of birth, date of admission to the hospital, date of admission to the ICU, date of death, and length of stay.\n",
      "\n",
      "* The **Chart Events table** contains data on the vital signs that get recorded by clinical staff. This includes blood pressure, body temperature, heart rate, and many more.\n",
      "\n",
      "* Finally, the **Lab Events table** contains data about the specific lab tests that were performed. So if you want information on something like a patient\u2019s serum glucose levels, white blood cell counts, or serum potassium levels, you\u2019d want to use this table."
     ]
    },
    {
     "cell_type": "markdown",
     "metadata": {},
     "source": [
      "#FUNCTION TO GET RELEVANT ITEM IDS\n",
      "##Pulls from:\n",
      "* Lab Items\n",
      "* Med Items\n",
      "* IO Events\n",
      "* Chart Events\n",
      "* Procedure Events\n",
      "\n",
      "##Does not pull from:\n",
      "* Demographic Events\n",
      "* Census Events\n",
      "* Drgevents\n",
      "* Microbiology Events\n",
      "* Note Events\n",
      "* Totalbal Events"
     ]
    },
    {
     "cell_type": "code",
     "collapsed": false,
     "input": [
      "import psycopg2\n",
      "import pandas.io.sql as psql\n",
      "import seaborn as sns\n",
      "sns.set(style='ticks', palette='Set2')\n",
      "import matplotlib.pyplot as plt\n",
      "%matplotlib inline\n",
      "from __future__ import division #now division always returns a floating point number\n",
      "\n",
      "dbname = ''\n",
      "user = ''\n",
      "pswd = ''\n",
      "\n",
      "#note: assumes data on localhost\n",
      "\n",
      "db = psycopg2.connect(\"dbname={0} host='localhost' user={1} password={2}\".format(dbname, user, pswd))"
     ],
     "language": "python",
     "metadata": {},
     "outputs": []
    },
    {
     "cell_type": "code",
     "collapsed": false,
     "input": [
      "search_query = 'Dexmedetomidine'\n",
      "\n",
      "\n",
      "itemids = psql.read_sql(\"\"\"\n",
      "\n",
      "WITH RAW_DATA as (\n",
      "\n",
      "SELECT ev.ITEMID AS ITEMID,\n",
      "    di.TEST_NAME AS LABEL,\n",
      "    'LABEVENTS' AS SOURCE\n",
      "FROM MIMIC2V26.labevents ev\n",
      "    JOIN MIMIC2V26.d_labitems di\n",
      "    ON di.ITEMID = ev.ITEMID\n",
      "WHERE upper(di.TEST_NAME) LIKE '%{0}%'\n",
      "\n",
      "UNION ALL\n",
      "\n",
      "SELECT ev.ITEMID AS ITEMID,\n",
      "    di.LABEL AS LABEL,\n",
      "    'MEDEVENTS' AS SOURCE\n",
      "FROM MIMIC2V26.medevents ev\n",
      "    JOIN MIMIC2V26.d_meditems di\n",
      "    ON di.ITEMID = ev.ITEMID\n",
      "WHERE upper(di.LABEL) LIKE '%{0}%'\n",
      "\n",
      "UNION ALL\n",
      "\n",
      "SELECT ev.ITEMID AS ITEMID,\n",
      "    di.LABEL AS LABEL,\n",
      "    'IOEVENTS' AS SOURCE\n",
      "FROM MIMIC2V26.ioevents ev\n",
      "    JOIN MIMIC2V26.d_ioitems di\n",
      "    ON di.ITEMID = ev.ITEMID\n",
      "WHERE upper(di.LABEL) LIKE '%{0}%'\n",
      "\n",
      "UNION ALL\n",
      "\n",
      "SELECT ev.ITEMID AS ITEMID,\n",
      "    di.LABEL AS LABEL,\n",
      "    'CHARTEVENTS' AS SOURCE\n",
      "FROM MIMIC2V26.chartevents ev\n",
      "    JOIN MIMIC2V26.d_chartitems di\n",
      "    ON di.ITEMID = ev.ITEMID\n",
      "WHERE upper(di.LABEL) LIKE '%{0}%'\n",
      "\n",
      "UNION ALL\n",
      "\n",
      "SELECT ev.ITEMID AS ITEMID,\n",
      "    di.DESCRIPTION AS LABEL,\n",
      "    'PROCEDUREEVENTS' AS SOURCE\n",
      "FROM MIMIC2V26.procedureevents ev\n",
      "    JOIN MIMIC2V26.d_codeditems di\n",
      "    ON di.ITEMID = ev.ITEMID\n",
      "WHERE upper(di.DESCRIPTION) LIKE '%{0}%'\n",
      ")\n",
      "\n",
      "select itemid, label, source, count(*) as cnt\n",
      "from raw_data\n",
      "group by itemid, label, source\n",
      "order by cnt desc\n",
      "\n",
      ";\n",
      "\n",
      "\"\"\".format(search_query.upper()), con = db)"
     ],
     "language": "python",
     "metadata": {},
     "outputs": [],
     "prompt_number": 9
    },
    {
     "cell_type": "code",
     "collapsed": false,
     "input": [
      "print(\"Shape: {}\".format(itemids.shape))\n",
      "print(\"*****************\")\n",
      "print(itemids.source.value_counts())\n",
      "print(\"*****************\")\n",
      "print(itemids.cnt.describe())\n",
      "print(\"*****************\")\n",
      "itemids.head(n=10)"
     ],
     "language": "python",
     "metadata": {},
     "outputs": [
      {
       "output_type": "stream",
       "stream": "stdout",
       "text": [
        "Shape: (4, 4)\n",
        "*****************\n",
        "IOEVENTS       2\n",
        "CHARTEVENTS    2\n",
        "dtype: int64\n",
        "*****************\n",
        "count     4.000000\n",
        "mean     22.000000\n",
        "std      16.062378\n",
        "min       4.000000\n",
        "25%      10.750000\n",
        "50%      23.500000\n",
        "75%      34.750000\n",
        "max      37.000000\n",
        "Name: cnt, dtype: float64\n",
        "*****************\n"
       ]
      },
      {
       "html": [
        "<div style=\"max-height:1000px;max-width:1500px;overflow:auto;\">\n",
        "<table border=\"1\" class=\"dataframe\">\n",
        "  <thead>\n",
        "    <tr style=\"text-align: right;\">\n",
        "      <th></th>\n",
        "      <th>itemid</th>\n",
        "      <th>label</th>\n",
        "      <th>source</th>\n",
        "      <th>cnt</th>\n",
        "    </tr>\n",
        "  </thead>\n",
        "  <tbody>\n",
        "    <tr>\n",
        "      <th>0</th>\n",
        "      <td> 2091</td>\n",
        "      <td> dexmedetomidine</td>\n",
        "      <td> CHARTEVENTS</td>\n",
        "      <td> 37</td>\n",
        "    </tr>\n",
        "    <tr>\n",
        "      <th>1</th>\n",
        "      <td> 6301</td>\n",
        "      <td> dexmedetomidine</td>\n",
        "      <td>    IOEVENTS</td>\n",
        "      <td> 34</td>\n",
        "    </tr>\n",
        "    <tr>\n",
        "      <th>2</th>\n",
        "      <td> 8192</td>\n",
        "      <td> Dexmedetomidine</td>\n",
        "      <td> CHARTEVENTS</td>\n",
        "      <td> 13</td>\n",
        "    </tr>\n",
        "    <tr>\n",
        "      <th>3</th>\n",
        "      <td> 3136</td>\n",
        "      <td> DEXMEDETOMIDINE</td>\n",
        "      <td>    IOEVENTS</td>\n",
        "      <td>  4</td>\n",
        "    </tr>\n",
        "  </tbody>\n",
        "</table>\n",
        "</div>"
       ],
       "metadata": {},
       "output_type": "pyout",
       "prompt_number": 10,
       "text": [
        "   itemid            label       source  cnt\n",
        "0    2091  dexmedetomidine  CHARTEVENTS   37\n",
        "1    6301  dexmedetomidine     IOEVENTS   34\n",
        "2    8192  Dexmedetomidine  CHARTEVENTS   13\n",
        "3    3136  DEXMEDETOMIDINE     IOEVENTS    4"
       ]
      }
     ],
     "prompt_number": 10
    },
    {
     "cell_type": "code",
     "collapsed": false,
     "input": [
      "plt.hist(itemids.cnt)\n",
      "sns.despine()"
     ],
     "language": "python",
     "metadata": {},
     "outputs": [
      {
       "metadata": {},
       "output_type": "display_data",
       "png": "[encoded data removed]",
       "text": [
        "<matplotlib.figure.Figure at 0x7f653ce3b1d0>"
       ]
      }
     ],
     "prompt_number": 106
    },
    {
     "cell_type": "code",
     "collapsed": false,
     "input": [],
     "language": "python",
     "metadata": {},
     "outputs": []
    }
   ],
   "metadata": {}
  }
 ]
}